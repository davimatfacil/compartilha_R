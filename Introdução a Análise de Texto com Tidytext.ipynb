{
 "cells": [
  {
   "cell_type": "markdown",
   "id": "intermediate-station",
   "metadata": {},
   "source": [
    "### Introdução a análise de Texto com o R"
   ]
  },
  {
   "cell_type": "markdown",
   "id": "waiting-application",
   "metadata": {},
   "source": [
    "#### prof. Davi Rocha"
   ]
  },
  {
   "cell_type": "markdown",
   "id": "welcome-harvard",
   "metadata": {},
   "source": [
    "Vamos aqui iniciar a analise de textos usando o R e usando uma base de dados que possuem informações de tweets. A ideia é analisar informações dessa base."
   ]
  },
  {
   "cell_type": "code",
   "execution_count": 114,
   "id": "honey-information",
   "metadata": {},
   "outputs": [],
   "source": [
    "library(tidyverse) #pacote principal"
   ]
  },
  {
   "cell_type": "code",
   "execution_count": null,
   "id": "urban-affect",
   "metadata": {},
   "outputs": [],
   "source": []
  },
  {
   "cell_type": "code",
   "execution_count": 115,
   "id": "reduced-hamburg",
   "metadata": {},
   "outputs": [],
   "source": [
    "twitter_data <- read_rds('twitter_data.rds') #dados de twitter"
   ]
  },
  {
   "cell_type": "code",
   "execution_count": 116,
   "id": "celtic-burden",
   "metadata": {},
   "outputs": [
    {
     "name": "stdout",
     "output_type": "stream",
     "text": [
      "# A tibble: 7,044 x 6\n",
      "   tweet_id date                complaint_label tweet_text usr_followers_c~\n",
      "      <dbl> <dttm>              <chr>           <chr>                 <dbl>\n",
      " 1  4.77e17 2014-06-12 00:07:25 Non-Complaint   \"1. Haned~              152\n",
      " 2  4.77e17 2014-06-12 00:12:30 Non-Complaint   \"My plane~              184\n",
      " 3  4.77e17 2014-06-12 00:13:56 Complaint       \"So appar~              136\n",
      " 4  4.77e17 2014-06-12 00:16:09 Non-Complaint   \"Je suppo~                1\n",
      " 5  4.77e17 2014-06-12 00:17:37 Non-Complaint   \"Dear @Ce~               67\n",
      " 6  4.77e17 2014-06-12 00:18:49 Complaint       \"Boo @Del~              138\n",
      " 7  4.77e17 2014-06-12 00:26:42 Non-Complaint   \"#PALFlie~               21\n",
      " 8  4.77e17 2014-06-12 00:31:08 Complaint       \"@JetBlue~              133\n",
      " 9  4.77e17 2014-06-12 00:35:27 Non-Complaint   \"Celebrat~              607\n",
      "10  4.77e17 2014-06-12 00:46:47 Non-Complaint   \"Don't do~              165\n",
      "# ... with 7,034 more rows, and 1 more variable: usr_verified <lgl>\n"
     ]
    }
   ],
   "source": [
    "##imprimir os dados:\n",
    "print(twitter_data)"
   ]
  },
  {
   "cell_type": "code",
   "execution_count": 117,
   "id": "infinite-motel",
   "metadata": {},
   "outputs": [
    {
     "data": {
      "text/html": [
       "<style>\n",
       ".list-inline {list-style: none; margin:0; padding: 0}\n",
       ".list-inline>li {display: inline-block}\n",
       ".list-inline>li:not(:last-child)::after {content: \"\\00b7\"; padding: 0 .5ex}\n",
       "</style>\n",
       "<ol class=list-inline><li>'tweet_id'</li><li>'date'</li><li>'complaint_label'</li><li>'tweet_text'</li><li>'usr_followers_count'</li><li>'usr_verified'</li></ol>\n"
      ],
      "text/latex": [
       "\\begin{enumerate*}\n",
       "\\item 'tweet\\_id'\n",
       "\\item 'date'\n",
       "\\item 'complaint\\_label'\n",
       "\\item 'tweet\\_text'\n",
       "\\item 'usr\\_followers\\_count'\n",
       "\\item 'usr\\_verified'\n",
       "\\end{enumerate*}\n"
      ],
      "text/markdown": [
       "1. 'tweet_id'\n",
       "2. 'date'\n",
       "3. 'complaint_label'\n",
       "4. 'tweet_text'\n",
       "5. 'usr_followers_count'\n",
       "6. 'usr_verified'\n",
       "\n",
       "\n"
      ],
      "text/plain": [
       "[1] \"tweet_id\"            \"date\"                \"complaint_label\"    \n",
       "[4] \"tweet_text\"          \"usr_followers_count\" \"usr_verified\"       "
      ]
     },
     "metadata": {},
     "output_type": "display_data"
    }
   ],
   "source": [
    "##colunas:\n",
    "names(twitter_data)"
   ]
  },
  {
   "cell_type": "markdown",
   "id": "interesting-liabilities",
   "metadata": {},
   "source": [
    "Nesse data frame temos 6 colunas:\n",
    "\n",
    "- **tweet_id** -  id do twitter\n",
    "\n",
    "- **date** - data do tweet\n",
    "\n",
    "- **complaint_label** - se é um tweet de reclamação ou não\n",
    "\n",
    "- **tweet_text** - texto do tweet\n",
    "\n",
    "- **usr_followers_count** - quantidade de seguidores\n",
    "\n",
    "- **usr_verified** - se o usuário é verificado ou não "
   ]
  },
  {
   "cell_type": "code",
   "execution_count": null,
   "id": "greatest-tourism",
   "metadata": {},
   "outputs": [],
   "source": []
  },
  {
   "cell_type": "code",
   "execution_count": 138,
   "id": "exposed-illness",
   "metadata": {},
   "outputs": [
    {
     "data": {
      "text/html": [
       "<table>\n",
       "<caption>A tibble: 6 × 6</caption>\n",
       "<thead>\n",
       "\t<tr><th scope=col>tweet_id</th><th scope=col>date</th><th scope=col>complaint_label</th><th scope=col>tweet_text</th><th scope=col>usr_followers_count</th><th scope=col>usr_verified</th></tr>\n",
       "\t<tr><th scope=col>&lt;dbl&gt;</th><th scope=col>&lt;dttm&gt;</th><th scope=col>&lt;chr&gt;</th><th scope=col>&lt;chr&gt;</th><th scope=col>&lt;dbl&gt;</th><th scope=col>&lt;lgl&gt;</th></tr>\n",
       "</thead>\n",
       "<tbody>\n",
       "\t<tr><td>4.768800e+17</td><td>2014-06-12 00:13:56</td><td>Complaint</td><td>So apparently @USAirways changes departing gates on flights in Philly without any type of notification #unsatisfiedcustomer                                                </td><td>136</td><td>FALSE</td></tr>\n",
       "\t<tr><td>4.768813e+17</td><td>2014-06-12 00:18:49</td><td>Complaint</td><td><span style=white-space:pre-wrap>Boo @Delta just cancelled the flight that they had already rescheduled. Now my itinerary is all weird online &amp;amp; lost my upgrade position. :(                            </span></td><td>138</td><td>FALSE</td></tr>\n",
       "\t<tr><td>4.768844e+17</td><td>2014-06-12 00:31:08</td><td>Complaint</td><td>@JetBlue you need to get your act together and get way nicer staff in the cancun airport were on an over 7 hr delay and they are awful &lt;U+0001F44E&gt;&lt;U+0001F44E&gt;&lt;U+0001F44E&gt;</td><td>133</td><td>FALSE</td></tr>\n",
       "\t<tr><td>4.768889e+17</td><td>2014-06-12 00:49:18</td><td>Complaint</td><td>@TheRealKerstin gave up on @USAirways after 2:48 hours on hold                                                                                                             </td><td>221</td><td>FALSE</td></tr>\n",
       "\t<tr><td>4.768903e+17</td><td>2014-06-12 00:54:32</td><td>Complaint</td><td>@AmericanAir worst customer service in JAX airport today. Flight delayed 10x and only 2 staff to help stranded passengers. Whole day wasted!                               </td><td> 10</td><td>FALSE</td></tr>\n",
       "\t<tr><td>4.768913e+17</td><td>2014-06-12 00:58:36</td><td>Complaint</td><td>I strongly advise avoiding @united for your flights.  What a pathetic excuse of a company                                                                                  </td><td>158</td><td>FALSE</td></tr>\n",
       "</tbody>\n",
       "</table>\n"
      ],
      "text/latex": [
       "A tibble: 6 × 6\n",
       "\\begin{tabular}{llllll}\n",
       " tweet\\_id & date & complaint\\_label & tweet\\_text & usr\\_followers\\_count & usr\\_verified\\\\\n",
       " <dbl> & <dttm> & <chr> & <chr> & <dbl> & <lgl>\\\\\n",
       "\\hline\n",
       "\t 4.768800e+17 & 2014-06-12 00:13:56 & Complaint & So apparently @USAirways changes departing gates on flights in Philly without any type of notification \\#unsatisfiedcustomer                                                 & 136 & FALSE\\\\\n",
       "\t 4.768813e+17 & 2014-06-12 00:18:49 & Complaint & Boo @Delta just cancelled the flight that they had already rescheduled. Now my itinerary is all weird online \\&amp; lost my upgrade position. :(                             & 138 & FALSE\\\\\n",
       "\t 4.768844e+17 & 2014-06-12 00:31:08 & Complaint & @JetBlue you need to get your act together and get way nicer staff in the cancun airport were on an over 7 hr delay and they are awful <U+0001F44E><U+0001F44E><U+0001F44E> & 133 & FALSE\\\\\n",
       "\t 4.768889e+17 & 2014-06-12 00:49:18 & Complaint & @TheRealKerstin gave up on @USAirways after 2:48 hours on hold                                                                                                              & 221 & FALSE\\\\\n",
       "\t 4.768903e+17 & 2014-06-12 00:54:32 & Complaint & @AmericanAir worst customer service in JAX airport today. Flight delayed 10x and only 2 staff to help stranded passengers. Whole day wasted!                                &  10 & FALSE\\\\\n",
       "\t 4.768913e+17 & 2014-06-12 00:58:36 & Complaint & I strongly advise avoiding @united for your flights.  What a pathetic excuse of a company                                                                                   & 158 & FALSE\\\\\n",
       "\\end{tabular}\n"
      ],
      "text/markdown": [
       "\n",
       "A tibble: 6 × 6\n",
       "\n",
       "| tweet_id &lt;dbl&gt; | date &lt;dttm&gt; | complaint_label &lt;chr&gt; | tweet_text &lt;chr&gt; | usr_followers_count &lt;dbl&gt; | usr_verified &lt;lgl&gt; |\n",
       "|---|---|---|---|---|---|\n",
       "| 4.768800e+17 | 2014-06-12 00:13:56 | Complaint | So apparently @USAirways changes departing gates on flights in Philly without any type of notification #unsatisfiedcustomer                                                 | 136 | FALSE |\n",
       "| 4.768813e+17 | 2014-06-12 00:18:49 | Complaint | Boo @Delta just cancelled the flight that they had already rescheduled. Now my itinerary is all weird online &amp;amp; lost my upgrade position. :(                             | 138 | FALSE |\n",
       "| 4.768844e+17 | 2014-06-12 00:31:08 | Complaint | @JetBlue you need to get your act together and get way nicer staff in the cancun airport were on an over 7 hr delay and they are awful &lt;U+0001F44E&gt;&lt;U+0001F44E&gt;&lt;U+0001F44E&gt; | 133 | FALSE |\n",
       "| 4.768889e+17 | 2014-06-12 00:49:18 | Complaint | @TheRealKerstin gave up on @USAirways after 2:48 hours on hold                                                                                                              | 221 | FALSE |\n",
       "| 4.768903e+17 | 2014-06-12 00:54:32 | Complaint | @AmericanAir worst customer service in JAX airport today. Flight delayed 10x and only 2 staff to help stranded passengers. Whole day wasted!                                |  10 | FALSE |\n",
       "| 4.768913e+17 | 2014-06-12 00:58:36 | Complaint | I strongly advise avoiding @united for your flights.  What a pathetic excuse of a company                                                                                   | 158 | FALSE |\n",
       "\n"
      ],
      "text/plain": [
       "  tweet_id     date                complaint_label\n",
       "1 4.768800e+17 2014-06-12 00:13:56 Complaint      \n",
       "2 4.768813e+17 2014-06-12 00:18:49 Complaint      \n",
       "3 4.768844e+17 2014-06-12 00:31:08 Complaint      \n",
       "4 4.768889e+17 2014-06-12 00:49:18 Complaint      \n",
       "5 4.768903e+17 2014-06-12 00:54:32 Complaint      \n",
       "6 4.768913e+17 2014-06-12 00:58:36 Complaint      \n",
       "  tweet_text                                                                                                                                                                 \n",
       "1 So apparently @USAirways changes departing gates on flights in Philly without any type of notification #unsatisfiedcustomer                                                \n",
       "2 Boo @Delta just cancelled the flight that they had already rescheduled. Now my itinerary is all weird online &amp; lost my upgrade position. :(                            \n",
       "3 @JetBlue you need to get your act together and get way nicer staff in the cancun airport were on an over 7 hr delay and they are awful <U+0001F44E><U+0001F44E><U+0001F44E>\n",
       "4 @TheRealKerstin gave up on @USAirways after 2:48 hours on hold                                                                                                             \n",
       "5 @AmericanAir worst customer service in JAX airport today. Flight delayed 10x and only 2 staff to help stranded passengers. Whole day wasted!                               \n",
       "6 I strongly advise avoiding @united for your flights.  What a pathetic excuse of a company                                                                                  \n",
       "  usr_followers_count usr_verified\n",
       "1 136                 FALSE       \n",
       "2 138                 FALSE       \n",
       "3 133                 FALSE       \n",
       "4 221                 FALSE       \n",
       "5  10                 FALSE       \n",
       "6 158                 FALSE       "
      ]
     },
     "metadata": {},
     "output_type": "display_data"
    }
   ],
   "source": [
    "#Impressão dos tweets de reclamação:\n",
    "head(\n",
    "    twitter_data %>%\n",
    "            filter(complaint_label=='Complaint'))"
   ]
  },
  {
   "cell_type": "code",
   "execution_count": 139,
   "id": "perceived-chocolate",
   "metadata": {},
   "outputs": [
    {
     "name": "stderr",
     "output_type": "stream",
     "text": [
      "`summarise()` ungrouping output (override with `.groups` argument)\n"
     ]
    },
    {
     "data": {
      "text/html": [
       "<table>\n",
       "<caption>A tibble: 2 × 4</caption>\n",
       "<thead>\n",
       "\t<tr><th scope=col>complaint_label</th><th scope=col>avg_followers</th><th scope=col>min_followers</th><th scope=col>max_followers</th></tr>\n",
       "\t<tr><th scope=col>&lt;chr&gt;</th><th scope=col>&lt;dbl&gt;</th><th scope=col>&lt;dbl&gt;</th><th scope=col>&lt;dbl&gt;</th></tr>\n",
       "</thead>\n",
       "<tbody>\n",
       "\t<tr><td>Complaint    </td><td>3234.339</td><td>0</td><td>1259803</td></tr>\n",
       "\t<tr><td>Non-Complaint</td><td>4487.331</td><td>0</td><td>2200851</td></tr>\n",
       "</tbody>\n",
       "</table>\n"
      ],
      "text/latex": [
       "A tibble: 2 × 4\n",
       "\\begin{tabular}{llll}\n",
       " complaint\\_label & avg\\_followers & min\\_followers & max\\_followers\\\\\n",
       " <chr> & <dbl> & <dbl> & <dbl>\\\\\n",
       "\\hline\n",
       "\t Complaint     & 3234.339 & 0 & 1259803\\\\\n",
       "\t Non-Complaint & 4487.331 & 0 & 2200851\\\\\n",
       "\\end{tabular}\n"
      ],
      "text/markdown": [
       "\n",
       "A tibble: 2 × 4\n",
       "\n",
       "| complaint_label &lt;chr&gt; | avg_followers &lt;dbl&gt; | min_followers &lt;dbl&gt; | max_followers &lt;dbl&gt; |\n",
       "|---|---|---|---|\n",
       "| Complaint     | 3234.339 | 0 | 1259803 |\n",
       "| Non-Complaint | 4487.331 | 0 | 2200851 |\n",
       "\n"
      ],
      "text/plain": [
       "  complaint_label avg_followers min_followers max_followers\n",
       "1 Complaint       3234.339      0             1259803      \n",
       "2 Non-Complaint   4487.331      0             2200851      "
      ]
     },
     "metadata": {},
     "output_type": "display_data"
    }
   ],
   "source": [
    "#Agrupamento dos dados pela coluna complaint_label\n",
    "#Calculo da media, minimo, e numero de seguidores\n",
    "twitter_data %>%\n",
    "            group_by(complaint_label) %>%\n",
    "                        summarise( \n",
    "                            avg_followers = mean(usr_followers_count),\n",
    "                            min_followers = min(usr_followers_count),\n",
    "                            max_followers = max(usr_followers_count))"
   ]
  },
  {
   "cell_type": "code",
   "execution_count": 121,
   "id": "forward-picking",
   "metadata": {},
   "outputs": [],
   "source": [
    "#Filtro dos dados por tweets que são de reclamações\n",
    "#Contagem do numero de usuários verificados e não verificados"
   ]
  },
  {
   "cell_type": "code",
   "execution_count": 122,
   "id": "white-camel",
   "metadata": {},
   "outputs": [
    {
     "data": {
      "text/html": [
       "<table>\n",
       "<caption>A tibble: 2 × 2</caption>\n",
       "<thead>\n",
       "\t<tr><th scope=col>usr_verified</th><th scope=col>n</th></tr>\n",
       "\t<tr><th scope=col>&lt;lgl&gt;</th><th scope=col>&lt;int&gt;</th></tr>\n",
       "</thead>\n",
       "<tbody>\n",
       "\t<tr><td>FALSE</td><td>1650</td></tr>\n",
       "\t<tr><td> TRUE</td><td>  26</td></tr>\n",
       "</tbody>\n",
       "</table>\n"
      ],
      "text/latex": [
       "A tibble: 2 × 2\n",
       "\\begin{tabular}{ll}\n",
       " usr\\_verified & n\\\\\n",
       " <lgl> & <int>\\\\\n",
       "\\hline\n",
       "\t FALSE & 1650\\\\\n",
       "\t  TRUE &   26\\\\\n",
       "\\end{tabular}\n"
      ],
      "text/markdown": [
       "\n",
       "A tibble: 2 × 2\n",
       "\n",
       "| usr_verified &lt;lgl&gt; | n &lt;int&gt; |\n",
       "|---|---|\n",
       "| FALSE | 1650 |\n",
       "|  TRUE |   26 |\n",
       "\n"
      ],
      "text/plain": [
       "  usr_verified n   \n",
       "1 FALSE        1650\n",
       "2  TRUE          26"
      ]
     },
     "metadata": {},
     "output_type": "display_data"
    }
   ],
   "source": [
    "twitter_data %>% \n",
    "            filter(complaint_label=='Complaint') %>%\n",
    "                                                    count(usr_verified)"
   ]
  },
  {
   "cell_type": "code",
   "execution_count": 123,
   "id": "confirmed-harrison",
   "metadata": {},
   "outputs": [],
   "source": [
    "# Dados agrupados por usuários verificados ou não\n",
    "# Calculo do numero medio  de seguidores para cada tipo de usuario. Essa coluna será chamada avg_followers.\n",
    "# Contagem do numero de usuarios verificados e não verificados. Essa coluna sera chamada n."
   ]
  },
  {
   "cell_type": "code",
   "execution_count": 124,
   "id": "demanding-seminar",
   "metadata": {},
   "outputs": [
    {
     "name": "stderr",
     "output_type": "stream",
     "text": [
      "`summarise()` ungrouping output (override with `.groups` argument)\n"
     ]
    },
    {
     "data": {
      "text/html": [
       "<table>\n",
       "<caption>A tibble: 2 × 3</caption>\n",
       "<thead>\n",
       "\t<tr><th scope=col>usr_verified</th><th scope=col>avg_followers</th><th scope=col>n</th></tr>\n",
       "\t<tr><th scope=col>&lt;lgl&gt;</th><th scope=col>&lt;dbl&gt;</th><th scope=col>&lt;int&gt;</th></tr>\n",
       "</thead>\n",
       "<tbody>\n",
       "\t<tr><td>FALSE</td><td>  1999.189</td><td>6927</td></tr>\n",
       "\t<tr><td> TRUE</td><td>133849.291</td><td> 117</td></tr>\n",
       "</tbody>\n",
       "</table>\n"
      ],
      "text/latex": [
       "A tibble: 2 × 3\n",
       "\\begin{tabular}{lll}\n",
       " usr\\_verified & avg\\_followers & n\\\\\n",
       " <lgl> & <dbl> & <int>\\\\\n",
       "\\hline\n",
       "\t FALSE &   1999.189 & 6927\\\\\n",
       "\t  TRUE & 133849.291 &  117\\\\\n",
       "\\end{tabular}\n"
      ],
      "text/markdown": [
       "\n",
       "A tibble: 2 × 3\n",
       "\n",
       "| usr_verified &lt;lgl&gt; | avg_followers &lt;dbl&gt; | n &lt;int&gt; |\n",
       "|---|---|---|\n",
       "| FALSE |   1999.189 | 6927 |\n",
       "|  TRUE | 133849.291 |  117 |\n",
       "\n"
      ],
      "text/plain": [
       "  usr_verified avg_followers n   \n",
       "1 FALSE          1999.189    6927\n",
       "2  TRUE        133849.291     117"
      ]
     },
     "metadata": {},
     "output_type": "display_data"
    }
   ],
   "source": [
    "twitter_data %>%\n",
    "            group_by(usr_verified) %>%\n",
    "                                    summarise(avg_followers=mean(usr_followers_count),\n",
    "                                             n=n())"
   ]
  },
  {
   "cell_type": "code",
   "execution_count": 140,
   "id": "annoying-index",
   "metadata": {},
   "outputs": [],
   "source": [
    "### Tokenização  limpeza e contagem\n",
    "\n",
    "#carregamento dos pacotes tidyverse e tidytext .\n",
    "#Tokenização dos twetts da coluna tweet_text.\n",
    "#Calculo da quantidade de palavras usando texto tokenizado.\n",
    "#Ordenando a contagem em ordem decrescente."
   ]
  },
  {
   "cell_type": "code",
   "execution_count": 141,
   "id": "becoming-choice",
   "metadata": {},
   "outputs": [],
   "source": [
    "library(tidyverse)\n",
    "library(tidytext)"
   ]
  },
  {
   "cell_type": "code",
   "execution_count": 142,
   "id": "middle-exclusion",
   "metadata": {},
   "outputs": [],
   "source": [
    "## Tokenização:criada a coluna word onde estão todas as palavras\n",
    "tidy_twitter <- twitter_data %>%\n",
    "            unnest_tokens(word,tweet_text)  "
   ]
  },
  {
   "cell_type": "code",
   "execution_count": 143,
   "id": "endangered-nursery",
   "metadata": {},
   "outputs": [
    {
     "data": {
      "text/html": [
       "<table>\n",
       "<caption>A tibble: 6 × 6</caption>\n",
       "<thead>\n",
       "\t<tr><th scope=col>tweet_id</th><th scope=col>date</th><th scope=col>complaint_label</th><th scope=col>usr_followers_count</th><th scope=col>usr_verified</th><th scope=col>word</th></tr>\n",
       "\t<tr><th scope=col>&lt;dbl&gt;</th><th scope=col>&lt;dttm&gt;</th><th scope=col>&lt;chr&gt;</th><th scope=col>&lt;dbl&gt;</th><th scope=col>&lt;lgl&gt;</th><th scope=col>&lt;chr&gt;</th></tr>\n",
       "</thead>\n",
       "<tbody>\n",
       "\t<tr><td>4.768784e+17</td><td>2014-06-12 00:07:25</td><td>Non-Complaint</td><td>152</td><td>FALSE</td><td>1     </td></tr>\n",
       "\t<tr><td>4.768784e+17</td><td>2014-06-12 00:07:25</td><td>Non-Complaint</td><td>152</td><td>FALSE</td><td>haneda</td></tr>\n",
       "\t<tr><td>4.768784e+17</td><td>2014-06-12 00:07:25</td><td>Non-Complaint</td><td>152</td><td>FALSE</td><td>2     </td></tr>\n",
       "\t<tr><td>4.768784e+17</td><td>2014-06-12 00:07:25</td><td>Non-Complaint</td><td>152</td><td>FALSE</td><td>i'll  </td></tr>\n",
       "\t<tr><td>4.768784e+17</td><td>2014-06-12 00:07:25</td><td>Non-Complaint</td><td>152</td><td>FALSE</td><td>go    </td></tr>\n",
       "\t<tr><td>4.768784e+17</td><td>2014-06-12 00:07:25</td><td>Non-Complaint</td><td>152</td><td>FALSE</td><td>to    </td></tr>\n",
       "</tbody>\n",
       "</table>\n"
      ],
      "text/latex": [
       "A tibble: 6 × 6\n",
       "\\begin{tabular}{llllll}\n",
       " tweet\\_id & date & complaint\\_label & usr\\_followers\\_count & usr\\_verified & word\\\\\n",
       " <dbl> & <dttm> & <chr> & <dbl> & <lgl> & <chr>\\\\\n",
       "\\hline\n",
       "\t 4.768784e+17 & 2014-06-12 00:07:25 & Non-Complaint & 152 & FALSE & 1     \\\\\n",
       "\t 4.768784e+17 & 2014-06-12 00:07:25 & Non-Complaint & 152 & FALSE & haneda\\\\\n",
       "\t 4.768784e+17 & 2014-06-12 00:07:25 & Non-Complaint & 152 & FALSE & 2     \\\\\n",
       "\t 4.768784e+17 & 2014-06-12 00:07:25 & Non-Complaint & 152 & FALSE & i'll  \\\\\n",
       "\t 4.768784e+17 & 2014-06-12 00:07:25 & Non-Complaint & 152 & FALSE & go    \\\\\n",
       "\t 4.768784e+17 & 2014-06-12 00:07:25 & Non-Complaint & 152 & FALSE & to    \\\\\n",
       "\\end{tabular}\n"
      ],
      "text/markdown": [
       "\n",
       "A tibble: 6 × 6\n",
       "\n",
       "| tweet_id &lt;dbl&gt; | date &lt;dttm&gt; | complaint_label &lt;chr&gt; | usr_followers_count &lt;dbl&gt; | usr_verified &lt;lgl&gt; | word &lt;chr&gt; |\n",
       "|---|---|---|---|---|---|\n",
       "| 4.768784e+17 | 2014-06-12 00:07:25 | Non-Complaint | 152 | FALSE | 1      |\n",
       "| 4.768784e+17 | 2014-06-12 00:07:25 | Non-Complaint | 152 | FALSE | haneda |\n",
       "| 4.768784e+17 | 2014-06-12 00:07:25 | Non-Complaint | 152 | FALSE | 2      |\n",
       "| 4.768784e+17 | 2014-06-12 00:07:25 | Non-Complaint | 152 | FALSE | i'll   |\n",
       "| 4.768784e+17 | 2014-06-12 00:07:25 | Non-Complaint | 152 | FALSE | go     |\n",
       "| 4.768784e+17 | 2014-06-12 00:07:25 | Non-Complaint | 152 | FALSE | to     |\n",
       "\n"
      ],
      "text/plain": [
       "  tweet_id     date                complaint_label usr_followers_count\n",
       "1 4.768784e+17 2014-06-12 00:07:25 Non-Complaint   152                \n",
       "2 4.768784e+17 2014-06-12 00:07:25 Non-Complaint   152                \n",
       "3 4.768784e+17 2014-06-12 00:07:25 Non-Complaint   152                \n",
       "4 4.768784e+17 2014-06-12 00:07:25 Non-Complaint   152                \n",
       "5 4.768784e+17 2014-06-12 00:07:25 Non-Complaint   152                \n",
       "6 4.768784e+17 2014-06-12 00:07:25 Non-Complaint   152                \n",
       "  usr_verified word  \n",
       "1 FALSE        1     \n",
       "2 FALSE        haneda\n",
       "3 FALSE        2     \n",
       "4 FALSE        i'll  \n",
       "5 FALSE        go    \n",
       "6 FALSE        to    "
      ]
     },
     "metadata": {},
     "output_type": "display_data"
    },
    {
     "data": {
      "text/html": [
       "<table>\n",
       "<caption>A tibble: 6 × 6</caption>\n",
       "<thead>\n",
       "\t<tr><th scope=col>tweet_id</th><th scope=col>date</th><th scope=col>complaint_label</th><th scope=col>usr_followers_count</th><th scope=col>usr_verified</th><th scope=col>word</th></tr>\n",
       "\t<tr><th scope=col>&lt;dbl&gt;</th><th scope=col>&lt;dttm&gt;</th><th scope=col>&lt;chr&gt;</th><th scope=col>&lt;dbl&gt;</th><th scope=col>&lt;lgl&gt;</th><th scope=col>&lt;chr&gt;</th></tr>\n",
       "</thead>\n",
       "<tbody>\n",
       "\t<tr><td>4.87268e+17</td><td>2014-07-10 16:11:55</td><td>Complaint</td><td>213</td><td>FALSE</td><td>run   </td></tr>\n",
       "\t<tr><td>4.87268e+17</td><td>2014-07-10 16:11:55</td><td>Complaint</td><td>213</td><td>FALSE</td><td>out   </td></tr>\n",
       "\t<tr><td>4.87268e+17</td><td>2014-07-10 16:11:55</td><td>Complaint</td><td>213</td><td>FALSE</td><td>of    </td></tr>\n",
       "\t<tr><td>4.87268e+17</td><td>2014-07-10 16:11:55</td><td>Complaint</td><td>213</td><td>FALSE</td><td>food  </td></tr>\n",
       "\t<tr><td>4.87268e+17</td><td>2014-07-10 16:11:55</td><td>Complaint</td><td>213</td><td>FALSE</td><td>that's</td></tr>\n",
       "\t<tr><td>4.87268e+17</td><td>2014-07-10 16:11:55</td><td>Complaint</td><td>213</td><td>FALSE</td><td>tacky </td></tr>\n",
       "</tbody>\n",
       "</table>\n"
      ],
      "text/latex": [
       "A tibble: 6 × 6\n",
       "\\begin{tabular}{llllll}\n",
       " tweet\\_id & date & complaint\\_label & usr\\_followers\\_count & usr\\_verified & word\\\\\n",
       " <dbl> & <dttm> & <chr> & <dbl> & <lgl> & <chr>\\\\\n",
       "\\hline\n",
       "\t 4.87268e+17 & 2014-07-10 16:11:55 & Complaint & 213 & FALSE & run   \\\\\n",
       "\t 4.87268e+17 & 2014-07-10 16:11:55 & Complaint & 213 & FALSE & out   \\\\\n",
       "\t 4.87268e+17 & 2014-07-10 16:11:55 & Complaint & 213 & FALSE & of    \\\\\n",
       "\t 4.87268e+17 & 2014-07-10 16:11:55 & Complaint & 213 & FALSE & food  \\\\\n",
       "\t 4.87268e+17 & 2014-07-10 16:11:55 & Complaint & 213 & FALSE & that's\\\\\n",
       "\t 4.87268e+17 & 2014-07-10 16:11:55 & Complaint & 213 & FALSE & tacky \\\\\n",
       "\\end{tabular}\n"
      ],
      "text/markdown": [
       "\n",
       "A tibble: 6 × 6\n",
       "\n",
       "| tweet_id &lt;dbl&gt; | date &lt;dttm&gt; | complaint_label &lt;chr&gt; | usr_followers_count &lt;dbl&gt; | usr_verified &lt;lgl&gt; | word &lt;chr&gt; |\n",
       "|---|---|---|---|---|---|\n",
       "| 4.87268e+17 | 2014-07-10 16:11:55 | Complaint | 213 | FALSE | run    |\n",
       "| 4.87268e+17 | 2014-07-10 16:11:55 | Complaint | 213 | FALSE | out    |\n",
       "| 4.87268e+17 | 2014-07-10 16:11:55 | Complaint | 213 | FALSE | of     |\n",
       "| 4.87268e+17 | 2014-07-10 16:11:55 | Complaint | 213 | FALSE | food   |\n",
       "| 4.87268e+17 | 2014-07-10 16:11:55 | Complaint | 213 | FALSE | that's |\n",
       "| 4.87268e+17 | 2014-07-10 16:11:55 | Complaint | 213 | FALSE | tacky  |\n",
       "\n"
      ],
      "text/plain": [
       "  tweet_id    date                complaint_label usr_followers_count\n",
       "1 4.87268e+17 2014-07-10 16:11:55 Complaint       213                \n",
       "2 4.87268e+17 2014-07-10 16:11:55 Complaint       213                \n",
       "3 4.87268e+17 2014-07-10 16:11:55 Complaint       213                \n",
       "4 4.87268e+17 2014-07-10 16:11:55 Complaint       213                \n",
       "5 4.87268e+17 2014-07-10 16:11:55 Complaint       213                \n",
       "6 4.87268e+17 2014-07-10 16:11:55 Complaint       213                \n",
       "  usr_verified word  \n",
       "1 FALSE        run   \n",
       "2 FALSE        out   \n",
       "3 FALSE        of    \n",
       "4 FALSE        food  \n",
       "5 FALSE        that's\n",
       "6 FALSE        tacky "
      ]
     },
     "metadata": {},
     "output_type": "display_data"
    }
   ],
   "source": [
    "head(tidy_twitter)\n",
    "tail(tidy_twitter)"
   ]
  },
  {
   "cell_type": "code",
   "execution_count": 129,
   "id": "headed-invite",
   "metadata": {},
   "outputs": [
    {
     "data": {
      "text/html": [
       "<table>\n",
       "<caption>A tibble: 18600 × 2</caption>\n",
       "<thead>\n",
       "\t<tr><th scope=col>word</th><th scope=col>n</th></tr>\n",
       "\t<tr><th scope=col>&lt;chr&gt;</th><th scope=col>&lt;int&gt;</th></tr>\n",
       "</thead>\n",
       "<tbody>\n",
       "\t<tr><td>to         </td><td>2834</td></tr>\n",
       "\t<tr><td>the        </td><td>2212</td></tr>\n",
       "\t<tr><td>a          </td><td>1989</td></tr>\n",
       "\t<tr><td>i          </td><td>1752</td></tr>\n",
       "\t<tr><td>t.co       </td><td>1405</td></tr>\n",
       "\t<tr><td>http       </td><td>1361</td></tr>\n",
       "\t<tr><td>for        </td><td>1356</td></tr>\n",
       "\t<tr><td>you        </td><td>1345</td></tr>\n",
       "\t<tr><td>on         </td><td>1289</td></tr>\n",
       "\t<tr><td>and        </td><td>1153</td></tr>\n",
       "\t<tr><td>in         </td><td>1107</td></tr>\n",
       "\t<tr><td>my         </td><td>1048</td></tr>\n",
       "\t<tr><td>is         </td><td>1021</td></tr>\n",
       "\t<tr><td>flight     </td><td> 996</td></tr>\n",
       "\t<tr><td>klm        </td><td> 910</td></tr>\n",
       "\t<tr><td>united     </td><td> 908</td></tr>\n",
       "\t<tr><td>of         </td><td> 843</td></tr>\n",
       "\t<tr><td>americanair</td><td> 830</td></tr>\n",
       "\t<tr><td>it         </td><td> 619</td></tr>\n",
       "\t<tr><td>with       </td><td> 604</td></tr>\n",
       "\t<tr><td>delta      </td><td> 595</td></tr>\n",
       "\t<tr><td>me         </td><td> 582</td></tr>\n",
       "\t<tr><td>at         </td><td> 551</td></tr>\n",
       "\t<tr><td>your       </td><td> 548</td></tr>\n",
       "\t<tr><td>no         </td><td> 536</td></tr>\n",
       "\t<tr><td>this       </td><td> 535</td></tr>\n",
       "\t<tr><td>have       </td><td> 517</td></tr>\n",
       "\t<tr><td>that       </td><td> 483</td></tr>\n",
       "\t<tr><td>not        </td><td> 482</td></tr>\n",
       "\t<tr><td>from       </td><td> 481</td></tr>\n",
       "\t<tr><td>...</td><td>...</td></tr>\n",
       "\t<tr><td>zoom      </td><td>1</td></tr>\n",
       "\t<tr><td>zorda     </td><td>1</td></tr>\n",
       "\t<tr><td>zouden    </td><td>1</td></tr>\n",
       "\t<tr><td>zpwe9bi9ul</td><td>1</td></tr>\n",
       "\t<tr><td>zq6gmu0og6</td><td>1</td></tr>\n",
       "\t<tr><td>zqkqbjem1s</td><td>1</td></tr>\n",
       "\t<tr><td>zqqntzqgvt</td><td>1</td></tr>\n",
       "\t<tr><td>zrgqug8tpv</td><td>1</td></tr>\n",
       "\t<tr><td>zt2qza12gy</td><td>1</td></tr>\n",
       "\t<tr><td>ztvwplfbte</td><td>1</td></tr>\n",
       "\t<tr><td>zu        </td><td>1</td></tr>\n",
       "\t<tr><td>zum       </td><td>1</td></tr>\n",
       "\t<tr><td>zurevpetic</td><td>1</td></tr>\n",
       "\t<tr><td>zürich    </td><td>1</td></tr>\n",
       "\t<tr><td>zus       </td><td>1</td></tr>\n",
       "\t<tr><td>zuster    </td><td>1</td></tr>\n",
       "\t<tr><td>zuupqwnqsv</td><td>1</td></tr>\n",
       "\t<tr><td>zuuwsgdhtx</td><td>1</td></tr>\n",
       "\t<tr><td>zwaan     </td><td>1</td></tr>\n",
       "\t<tr><td>zwak      </td><td>1</td></tr>\n",
       "\t<tr><td>zwamboobs </td><td>1</td></tr>\n",
       "\t<tr><td>zwerezvia6</td><td>1</td></tr>\n",
       "\t<tr><td>zxbcom    </td><td>1</td></tr>\n",
       "\t<tr><td>zxppvsqtkz</td><td>1</td></tr>\n",
       "\t<tr><td>zygc7oiyqz</td><td>1</td></tr>\n",
       "\t<tr><td>zylrjxhbev</td><td>1</td></tr>\n",
       "\t<tr><td>zypfbdyoqw</td><td>1</td></tr>\n",
       "\t<tr><td>zyrnm61rmd</td><td>1</td></tr>\n",
       "\t<tr><td>zyuvmig45w</td><td>1</td></tr>\n",
       "\t<tr><td>zz5k2hmwlj</td><td>1</td></tr>\n",
       "</tbody>\n",
       "</table>\n"
      ],
      "text/latex": [
       "A tibble: 18600 × 2\n",
       "\\begin{tabular}{ll}\n",
       " word & n\\\\\n",
       " <chr> & <int>\\\\\n",
       "\\hline\n",
       "\t to          & 2834\\\\\n",
       "\t the         & 2212\\\\\n",
       "\t a           & 1989\\\\\n",
       "\t i           & 1752\\\\\n",
       "\t t.co        & 1405\\\\\n",
       "\t http        & 1361\\\\\n",
       "\t for         & 1356\\\\\n",
       "\t you         & 1345\\\\\n",
       "\t on          & 1289\\\\\n",
       "\t and         & 1153\\\\\n",
       "\t in          & 1107\\\\\n",
       "\t my          & 1048\\\\\n",
       "\t is          & 1021\\\\\n",
       "\t flight      &  996\\\\\n",
       "\t klm         &  910\\\\\n",
       "\t united      &  908\\\\\n",
       "\t of          &  843\\\\\n",
       "\t americanair &  830\\\\\n",
       "\t it          &  619\\\\\n",
       "\t with        &  604\\\\\n",
       "\t delta       &  595\\\\\n",
       "\t me          &  582\\\\\n",
       "\t at          &  551\\\\\n",
       "\t your        &  548\\\\\n",
       "\t no          &  536\\\\\n",
       "\t this        &  535\\\\\n",
       "\t have        &  517\\\\\n",
       "\t that        &  483\\\\\n",
       "\t not         &  482\\\\\n",
       "\t from        &  481\\\\\n",
       "\t ... & ...\\\\\n",
       "\t zoom       & 1\\\\\n",
       "\t zorda      & 1\\\\\n",
       "\t zouden     & 1\\\\\n",
       "\t zpwe9bi9ul & 1\\\\\n",
       "\t zq6gmu0og6 & 1\\\\\n",
       "\t zqkqbjem1s & 1\\\\\n",
       "\t zqqntzqgvt & 1\\\\\n",
       "\t zrgqug8tpv & 1\\\\\n",
       "\t zt2qza12gy & 1\\\\\n",
       "\t ztvwplfbte & 1\\\\\n",
       "\t zu         & 1\\\\\n",
       "\t zum        & 1\\\\\n",
       "\t zurevpetic & 1\\\\\n",
       "\t zürich     & 1\\\\\n",
       "\t zus        & 1\\\\\n",
       "\t zuster     & 1\\\\\n",
       "\t zuupqwnqsv & 1\\\\\n",
       "\t zuuwsgdhtx & 1\\\\\n",
       "\t zwaan      & 1\\\\\n",
       "\t zwak       & 1\\\\\n",
       "\t zwamboobs  & 1\\\\\n",
       "\t zwerezvia6 & 1\\\\\n",
       "\t zxbcom     & 1\\\\\n",
       "\t zxppvsqtkz & 1\\\\\n",
       "\t zygc7oiyqz & 1\\\\\n",
       "\t zylrjxhbev & 1\\\\\n",
       "\t zypfbdyoqw & 1\\\\\n",
       "\t zyrnm61rmd & 1\\\\\n",
       "\t zyuvmig45w & 1\\\\\n",
       "\t zz5k2hmwlj & 1\\\\\n",
       "\\end{tabular}\n"
      ],
      "text/markdown": [
       "\n",
       "A tibble: 18600 × 2\n",
       "\n",
       "| word &lt;chr&gt; | n &lt;int&gt; |\n",
       "|---|---|\n",
       "| to          | 2834 |\n",
       "| the         | 2212 |\n",
       "| a           | 1989 |\n",
       "| i           | 1752 |\n",
       "| t.co        | 1405 |\n",
       "| http        | 1361 |\n",
       "| for         | 1356 |\n",
       "| you         | 1345 |\n",
       "| on          | 1289 |\n",
       "| and         | 1153 |\n",
       "| in          | 1107 |\n",
       "| my          | 1048 |\n",
       "| is          | 1021 |\n",
       "| flight      |  996 |\n",
       "| klm         |  910 |\n",
       "| united      |  908 |\n",
       "| of          |  843 |\n",
       "| americanair |  830 |\n",
       "| it          |  619 |\n",
       "| with        |  604 |\n",
       "| delta       |  595 |\n",
       "| me          |  582 |\n",
       "| at          |  551 |\n",
       "| your        |  548 |\n",
       "| no          |  536 |\n",
       "| this        |  535 |\n",
       "| have        |  517 |\n",
       "| that        |  483 |\n",
       "| not         |  482 |\n",
       "| from        |  481 |\n",
       "| ... | ... |\n",
       "| zoom       | 1 |\n",
       "| zorda      | 1 |\n",
       "| zouden     | 1 |\n",
       "| zpwe9bi9ul | 1 |\n",
       "| zq6gmu0og6 | 1 |\n",
       "| zqkqbjem1s | 1 |\n",
       "| zqqntzqgvt | 1 |\n",
       "| zrgqug8tpv | 1 |\n",
       "| zt2qza12gy | 1 |\n",
       "| ztvwplfbte | 1 |\n",
       "| zu         | 1 |\n",
       "| zum        | 1 |\n",
       "| zurevpetic | 1 |\n",
       "| zürich     | 1 |\n",
       "| zus        | 1 |\n",
       "| zuster     | 1 |\n",
       "| zuupqwnqsv | 1 |\n",
       "| zuuwsgdhtx | 1 |\n",
       "| zwaan      | 1 |\n",
       "| zwak       | 1 |\n",
       "| zwamboobs  | 1 |\n",
       "| zwerezvia6 | 1 |\n",
       "| zxbcom     | 1 |\n",
       "| zxppvsqtkz | 1 |\n",
       "| zygc7oiyqz | 1 |\n",
       "| zylrjxhbev | 1 |\n",
       "| zypfbdyoqw | 1 |\n",
       "| zyrnm61rmd | 1 |\n",
       "| zyuvmig45w | 1 |\n",
       "| zz5k2hmwlj | 1 |\n",
       "\n"
      ],
      "text/plain": [
       "      word        n   \n",
       "1     to          2834\n",
       "2     the         2212\n",
       "3     a           1989\n",
       "4     i           1752\n",
       "5     t.co        1405\n",
       "6     http        1361\n",
       "7     for         1356\n",
       "8     you         1345\n",
       "9     on          1289\n",
       "10    and         1153\n",
       "11    in          1107\n",
       "12    my          1048\n",
       "13    is          1021\n",
       "14    flight       996\n",
       "15    klm          910\n",
       "16    united       908\n",
       "17    of           843\n",
       "18    americanair  830\n",
       "19    it           619\n",
       "20    with         604\n",
       "21    delta        595\n",
       "22    me           582\n",
       "23    at           551\n",
       "24    your         548\n",
       "25    no           536\n",
       "26    this         535\n",
       "27    have         517\n",
       "28    that         483\n",
       "29    not          482\n",
       "30    from         481\n",
       "...   ...         ... \n",
       "18571 zoom        1   \n",
       "18572 zorda       1   \n",
       "18573 zouden      1   \n",
       "18574 zpwe9bi9ul  1   \n",
       "18575 zq6gmu0og6  1   \n",
       "18576 zqkqbjem1s  1   \n",
       "18577 zqqntzqgvt  1   \n",
       "18578 zrgqug8tpv  1   \n",
       "18579 zt2qza12gy  1   \n",
       "18580 ztvwplfbte  1   \n",
       "18581 zu          1   \n",
       "18582 zum         1   \n",
       "18583 zurevpetic  1   \n",
       "18584 zürich      1   \n",
       "18585 zus         1   \n",
       "18586 zuster      1   \n",
       "18587 zuupqwnqsv  1   \n",
       "18588 zuuwsgdhtx  1   \n",
       "18589 zwaan       1   \n",
       "18590 zwak        1   \n",
       "18591 zwamboobs   1   \n",
       "18592 zwerezvia6  1   \n",
       "18593 zxbcom      1   \n",
       "18594 zxppvsqtkz  1   \n",
       "18595 zygc7oiyqz  1   \n",
       "18596 zylrjxhbev  1   \n",
       "18597 zypfbdyoqw  1   \n",
       "18598 zyrnm61rmd  1   \n",
       "18599 zyuvmig45w  1   \n",
       "18600 zz5k2hmwlj  1   "
      ]
     },
     "metadata": {},
     "output_type": "display_data"
    }
   ],
   "source": [
    "# Contagem e ordenando em ordem decrescente\n",
    "tidy_twitter %>% \n",
    "            count(word) %>%\n",
    "                        arrange(desc(n)) "
   ]
  },
  {
   "cell_type": "code",
   "execution_count": 130,
   "id": "smaller-peace",
   "metadata": {},
   "outputs": [],
   "source": [
    "#Limpando e contandoCleaning and counting\n",
    "#Remova as palavras irrelevantes(stop words) para explorar o conteúdo apenas dos tweets de companhias aéreas classificados como\n",
    "#reclamações(complaints) no twitter_data.."
   ]
  },
  {
   "cell_type": "code",
   "execution_count": 131,
   "id": "virtual-folder",
   "metadata": {},
   "outputs": [],
   "source": [
    "##Tokenização dos tweets do twitter_data. \n",
    "##Remover as stop words da base twitter_data ja tokenizada\n",
    "##Filtrar dados de reclamação somente(complaints)\n",
    "##Contar as palavras e ordenar em ordem decrescente por quantidade(n)"
   ]
  },
  {
   "cell_type": "code",
   "execution_count": 144,
   "id": "spare-japanese",
   "metadata": {},
   "outputs": [
    {
     "name": "stderr",
     "output_type": "stream",
     "text": [
      "Joining, by = \"word\"\n"
     ]
    }
   ],
   "source": [
    "tidy_twitter <- twitter_data %>%\n",
    "            unnest_tokens(word,tweet_text) %>%\n",
    "                                anti_join(stop_words)"
   ]
  },
  {
   "cell_type": "code",
   "execution_count": 145,
   "id": "julian-evolution",
   "metadata": {},
   "outputs": [
    {
     "data": {
      "text/html": [
       "<table>\n",
       "<caption>A tibble: 3863 × 2</caption>\n",
       "<thead>\n",
       "\t<tr><th scope=col>word</th><th scope=col>n</th></tr>\n",
       "\t<tr><th scope=col>&lt;chr&gt;</th><th scope=col>&lt;int&gt;</th></tr>\n",
       "</thead>\n",
       "<tbody>\n",
       "\t<tr><td>flight         </td><td>459</td></tr>\n",
       "\t<tr><td>united         </td><td>362</td></tr>\n",
       "\t<tr><td>americanair    </td><td>294</td></tr>\n",
       "\t<tr><td>usairways      </td><td>207</td></tr>\n",
       "\t<tr><td>time           </td><td>167</td></tr>\n",
       "\t<tr><td>delta          </td><td>141</td></tr>\n",
       "\t<tr><td>service        </td><td>137</td></tr>\n",
       "\t<tr><td>2              </td><td>129</td></tr>\n",
       "\t<tr><td>delayed        </td><td>123</td></tr>\n",
       "\t<tr><td>british_airways</td><td>121</td></tr>\n",
       "\t<tr><td>customer       </td><td>116</td></tr>\n",
       "\t<tr><td>hours          </td><td>115</td></tr>\n",
       "\t<tr><td>fly            </td><td>112</td></tr>\n",
       "\t<tr><td>southwestair   </td><td>112</td></tr>\n",
       "\t<tr><td>flights        </td><td> 99</td></tr>\n",
       "\t<tr><td>amp            </td><td> 95</td></tr>\n",
       "\t<tr><td>plane          </td><td> 93</td></tr>\n",
       "\t<tr><td>deltaassist    </td><td> 91</td></tr>\n",
       "\t<tr><td>bag            </td><td> 90</td></tr>\n",
       "\t<tr><td>hour           </td><td> 86</td></tr>\n",
       "\t<tr><td>airline        </td><td> 84</td></tr>\n",
       "\t<tr><td>3              </td><td> 82</td></tr>\n",
       "\t<tr><td>delay          </td><td> 75</td></tr>\n",
       "\t<tr><td>jetblue        </td><td> 75</td></tr>\n",
       "\t<tr><td>cancelled      </td><td> 74</td></tr>\n",
       "\t<tr><td>luggage        </td><td> 74</td></tr>\n",
       "\t<tr><td>gate           </td><td> 71</td></tr>\n",
       "\t<tr><td>day            </td><td> 65</td></tr>\n",
       "\t<tr><td>ryanair        </td><td> 60</td></tr>\n",
       "\t<tr><td>worst          </td><td> 60</td></tr>\n",
       "\t<tr><td>...</td><td>...</td></tr>\n",
       "\t<tr><td>worsethaneasyjet</td><td>1</td></tr>\n",
       "\t<tr><td>worstairlineever</td><td>1</td></tr>\n",
       "\t<tr><td>worstever       </td><td>1</td></tr>\n",
       "\t<tr><td>worstnews       </td><td>1</td></tr>\n",
       "\t<tr><td>worstservice    </td><td>1</td></tr>\n",
       "\t<tr><td>worthless       </td><td>1</td></tr>\n",
       "\t<tr><td>wrongly         </td><td>1</td></tr>\n",
       "\t<tr><td>wrote           </td><td>1</td></tr>\n",
       "\t<tr><td>wtg             </td><td>1</td></tr>\n",
       "\t<tr><td>wwzxekgu0y      </td><td>1</td></tr>\n",
       "\t<tr><td>x's             </td><td>1</td></tr>\n",
       "\t<tr><td>x2byna4cgz      </td><td>1</td></tr>\n",
       "\t<tr><td>x96472rkkf      </td><td>1</td></tr>\n",
       "\t<tr><td>xcl'd           </td><td>1</td></tr>\n",
       "\t<tr><td>xx              </td><td>1</td></tr>\n",
       "\t<tr><td>xxmspxx         </td><td>1</td></tr>\n",
       "\t<tr><td>yearly          </td><td>1</td></tr>\n",
       "\t<tr><td>yelled          </td><td>1</td></tr>\n",
       "\t<tr><td>yet.airasia     </td><td>1</td></tr>\n",
       "\t<tr><td>yo              </td><td>1</td></tr>\n",
       "\t<tr><td>york            </td><td>1</td></tr>\n",
       "\t<tr><td>youdisappoint   </td><td>1</td></tr>\n",
       "\t<tr><td>youre           </td><td>1</td></tr>\n",
       "\t<tr><td>yr              </td><td>1</td></tr>\n",
       "\t<tr><td>yrs             </td><td>1</td></tr>\n",
       "\t<tr><td>yuma            </td><td>1</td></tr>\n",
       "\t<tr><td>yuvddunlb2      </td><td>1</td></tr>\n",
       "\t<tr><td>zayuuuuuum      </td><td>1</td></tr>\n",
       "\t<tr><td>zone            </td><td>1</td></tr>\n",
       "\t<tr><td>zoo             </td><td>1</td></tr>\n",
       "</tbody>\n",
       "</table>\n"
      ],
      "text/latex": [
       "A tibble: 3863 × 2\n",
       "\\begin{tabular}{ll}\n",
       " word & n\\\\\n",
       " <chr> & <int>\\\\\n",
       "\\hline\n",
       "\t flight          & 459\\\\\n",
       "\t united          & 362\\\\\n",
       "\t americanair     & 294\\\\\n",
       "\t usairways       & 207\\\\\n",
       "\t time            & 167\\\\\n",
       "\t delta           & 141\\\\\n",
       "\t service         & 137\\\\\n",
       "\t 2               & 129\\\\\n",
       "\t delayed         & 123\\\\\n",
       "\t british\\_airways & 121\\\\\n",
       "\t customer        & 116\\\\\n",
       "\t hours           & 115\\\\\n",
       "\t fly             & 112\\\\\n",
       "\t southwestair    & 112\\\\\n",
       "\t flights         &  99\\\\\n",
       "\t amp             &  95\\\\\n",
       "\t plane           &  93\\\\\n",
       "\t deltaassist     &  91\\\\\n",
       "\t bag             &  90\\\\\n",
       "\t hour            &  86\\\\\n",
       "\t airline         &  84\\\\\n",
       "\t 3               &  82\\\\\n",
       "\t delay           &  75\\\\\n",
       "\t jetblue         &  75\\\\\n",
       "\t cancelled       &  74\\\\\n",
       "\t luggage         &  74\\\\\n",
       "\t gate            &  71\\\\\n",
       "\t day             &  65\\\\\n",
       "\t ryanair         &  60\\\\\n",
       "\t worst           &  60\\\\\n",
       "\t ... & ...\\\\\n",
       "\t worsethaneasyjet & 1\\\\\n",
       "\t worstairlineever & 1\\\\\n",
       "\t worstever        & 1\\\\\n",
       "\t worstnews        & 1\\\\\n",
       "\t worstservice     & 1\\\\\n",
       "\t worthless        & 1\\\\\n",
       "\t wrongly          & 1\\\\\n",
       "\t wrote            & 1\\\\\n",
       "\t wtg              & 1\\\\\n",
       "\t wwzxekgu0y       & 1\\\\\n",
       "\t x's              & 1\\\\\n",
       "\t x2byna4cgz       & 1\\\\\n",
       "\t x96472rkkf       & 1\\\\\n",
       "\t xcl'd            & 1\\\\\n",
       "\t xx               & 1\\\\\n",
       "\t xxmspxx          & 1\\\\\n",
       "\t yearly           & 1\\\\\n",
       "\t yelled           & 1\\\\\n",
       "\t yet.airasia      & 1\\\\\n",
       "\t yo               & 1\\\\\n",
       "\t york             & 1\\\\\n",
       "\t youdisappoint    & 1\\\\\n",
       "\t youre            & 1\\\\\n",
       "\t yr               & 1\\\\\n",
       "\t yrs              & 1\\\\\n",
       "\t yuma             & 1\\\\\n",
       "\t yuvddunlb2       & 1\\\\\n",
       "\t zayuuuuuum       & 1\\\\\n",
       "\t zone             & 1\\\\\n",
       "\t zoo              & 1\\\\\n",
       "\\end{tabular}\n"
      ],
      "text/markdown": [
       "\n",
       "A tibble: 3863 × 2\n",
       "\n",
       "| word &lt;chr&gt; | n &lt;int&gt; |\n",
       "|---|---|\n",
       "| flight          | 459 |\n",
       "| united          | 362 |\n",
       "| americanair     | 294 |\n",
       "| usairways       | 207 |\n",
       "| time            | 167 |\n",
       "| delta           | 141 |\n",
       "| service         | 137 |\n",
       "| 2               | 129 |\n",
       "| delayed         | 123 |\n",
       "| british_airways | 121 |\n",
       "| customer        | 116 |\n",
       "| hours           | 115 |\n",
       "| fly             | 112 |\n",
       "| southwestair    | 112 |\n",
       "| flights         |  99 |\n",
       "| amp             |  95 |\n",
       "| plane           |  93 |\n",
       "| deltaassist     |  91 |\n",
       "| bag             |  90 |\n",
       "| hour            |  86 |\n",
       "| airline         |  84 |\n",
       "| 3               |  82 |\n",
       "| delay           |  75 |\n",
       "| jetblue         |  75 |\n",
       "| cancelled       |  74 |\n",
       "| luggage         |  74 |\n",
       "| gate            |  71 |\n",
       "| day             |  65 |\n",
       "| ryanair         |  60 |\n",
       "| worst           |  60 |\n",
       "| ... | ... |\n",
       "| worsethaneasyjet | 1 |\n",
       "| worstairlineever | 1 |\n",
       "| worstever        | 1 |\n",
       "| worstnews        | 1 |\n",
       "| worstservice     | 1 |\n",
       "| worthless        | 1 |\n",
       "| wrongly          | 1 |\n",
       "| wrote            | 1 |\n",
       "| wtg              | 1 |\n",
       "| wwzxekgu0y       | 1 |\n",
       "| x's              | 1 |\n",
       "| x2byna4cgz       | 1 |\n",
       "| x96472rkkf       | 1 |\n",
       "| xcl'd            | 1 |\n",
       "| xx               | 1 |\n",
       "| xxmspxx          | 1 |\n",
       "| yearly           | 1 |\n",
       "| yelled           | 1 |\n",
       "| yet.airasia      | 1 |\n",
       "| yo               | 1 |\n",
       "| york             | 1 |\n",
       "| youdisappoint    | 1 |\n",
       "| youre            | 1 |\n",
       "| yr               | 1 |\n",
       "| yrs              | 1 |\n",
       "| yuma             | 1 |\n",
       "| yuvddunlb2       | 1 |\n",
       "| zayuuuuuum       | 1 |\n",
       "| zone             | 1 |\n",
       "| zoo              | 1 |\n",
       "\n"
      ],
      "text/plain": [
       "     word             n  \n",
       "1    flight           459\n",
       "2    united           362\n",
       "3    americanair      294\n",
       "4    usairways        207\n",
       "5    time             167\n",
       "6    delta            141\n",
       "7    service          137\n",
       "8    2                129\n",
       "9    delayed          123\n",
       "10   british_airways  121\n",
       "11   customer         116\n",
       "12   hours            115\n",
       "13   fly              112\n",
       "14   southwestair     112\n",
       "15   flights           99\n",
       "16   amp               95\n",
       "17   plane             93\n",
       "18   deltaassist       91\n",
       "19   bag               90\n",
       "20   hour              86\n",
       "21   airline           84\n",
       "22   3                 82\n",
       "23   delay             75\n",
       "24   jetblue           75\n",
       "25   cancelled         74\n",
       "26   luggage           74\n",
       "27   gate              71\n",
       "28   day               65\n",
       "29   ryanair           60\n",
       "30   worst             60\n",
       "...  ...              ...\n",
       "3834 worsethaneasyjet 1  \n",
       "3835 worstairlineever 1  \n",
       "3836 worstever        1  \n",
       "3837 worstnews        1  \n",
       "3838 worstservice     1  \n",
       "3839 worthless        1  \n",
       "3840 wrongly          1  \n",
       "3841 wrote            1  \n",
       "3842 wtg              1  \n",
       "3843 wwzxekgu0y       1  \n",
       "3844 x's              1  \n",
       "3845 x2byna4cgz       1  \n",
       "3846 x96472rkkf       1  \n",
       "3847 xcl'd            1  \n",
       "3848 xx               1  \n",
       "3849 xxmspxx          1  \n",
       "3850 yearly           1  \n",
       "3851 yelled           1  \n",
       "3852 yet.airasia      1  \n",
       "3853 yo               1  \n",
       "3854 york             1  \n",
       "3855 youdisappoint    1  \n",
       "3856 youre            1  \n",
       "3857 yr               1  \n",
       "3858 yrs              1  \n",
       "3859 yuma             1  \n",
       "3860 yuvddunlb2       1  \n",
       "3861 zayuuuuuum       1  \n",
       "3862 zone             1  \n",
       "3863 zoo              1  "
      ]
     },
     "metadata": {},
     "output_type": "display_data"
    }
   ],
   "source": [
    "tidy_twitter %>% \n",
    "                filter(complaint_label=='Complaint') %>%\n",
    "                                                      count(word) %>%\n",
    "                                                                    arrange(desc(n))"
   ]
  },
  {
   "cell_type": "markdown",
   "id": "public-japanese",
   "metadata": {},
   "source": [
    "\n",
    "Parece que as reclamações incluem referências frequentes a tempo, atrasos e serviço. No entanto, existem simplesmente várias companhias aéreas específicas referenciadas. Eles podem ser considerados palavras de interrupção específicas para esses dados, e veremos como removê-los abaixo"
   ]
  },
  {
   "cell_type": "markdown",
   "id": "corporate-location",
   "metadata": {},
   "source": [
    "#### Visualização de reclamações\n",
    "\n",
    "Acima fizemos contagens de palavras de reclamação. Agora vamos visualizar essas contagens de palavras com um gráfico de barras.\n",
    "\n",
    "Os pacotes tidyverse e tidytext já foram carregados. twitter_data foi tokenizado e as palavras de parada padrão foram removidas.\n"
   ]
  },
  {
   "cell_type": "markdown",
   "id": "realistic-address",
   "metadata": {},
   "source": [
    "Vamos manter somente palavras que tem frequencia mior que 100, chamaremos esses dados  de word_count.\n",
    "E criaremos um gráfico de barras.\n"
   ]
  },
  {
   "cell_type": "code",
   "execution_count": 146,
   "id": "royal-eclipse",
   "metadata": {},
   "outputs": [],
   "source": [
    "word_counts<- tidy_twitter %>%\n",
    "            filter(complaint_label == \"Complaint\") %>%\n",
    "                                                 count(word) %>%\n",
    "                                                        filter(n>100)"
   ]
  },
  {
   "cell_type": "code",
   "execution_count": 152,
   "id": "mexican-fruit",
   "metadata": {},
   "outputs": [
    {
     "data": {
      "image/png": "[encoded data removed]",
      "text/plain": [
       "plot without title"
      ]
     },
     "metadata": {},
     "output_type": "display_data"
    }
   ],
   "source": [
    "ggplot(word_counts, aes(x=word, y=n))+ geom_col()+ coord_flip() + ggtitle('Contagem das palavras de Reclamações')"
   ]
  },
  {
   "cell_type": "code",
   "execution_count": null,
   "id": "prime-zealand",
   "metadata": {},
   "outputs": [],
   "source": []
  },
  {
   "cell_type": "code",
   "execution_count": 153,
   "id": "bacterial-efficiency",
   "metadata": {},
   "outputs": [],
   "source": [
    "word_counts2<- tidy_twitter %>% filter(complaint_label=='Non-Complaint') %>%\n",
    "                                count(word) %>% filter(n>150)\n"
   ]
  },
  {
   "cell_type": "code",
   "execution_count": 154,
   "id": "analyzed-university",
   "metadata": {},
   "outputs": [
    {
     "data": {
      "image/png": "[encoded data removed]",
      "text/plain": [
       "plot without title"
      ]
     },
     "metadata": {},
     "output_type": "display_data"
    }
   ],
   "source": [
    "ggplot(word_counts2, aes(x=word, y=n))+ geom_col() + coord_flip()+ ggtitle('Contagem de palavars que não são de reclamações')"
   ]
  },
  {
   "cell_type": "markdown",
   "id": "sticky-beverage",
   "metadata": {},
   "source": [
    "**Keep calm and analysing data!**"
   ]
  }
 ],
 "metadata": {
  "kernelspec": {
   "display_name": "R",
   "language": "R",
   "name": "ir"
  },
  "language_info": {
   "codemirror_mode": "r",
   "file_extension": ".r",
   "mimetype": "text/x-r-source",
   "name": "R",
   "pygments_lexer": "r",
   "version": "3.6.1"
  }
 },
 "nbformat": 4,
 "nbformat_minor": 5
}
